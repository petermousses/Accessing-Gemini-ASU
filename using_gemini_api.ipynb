{
 "cells": [
  {
   "cell_type": "markdown",
   "metadata": {},
   "source": [
    "# Using the Gemini API\n",
    "This notebook goes over all of the necessary steps to get started with the Gemini API starting from scratch.\n",
    "## Step 1: Make sure you're signed into your ASU Google account\n",
    "\n",
    "\n",
    "## Step 2: Visit the [Google AI Dev](https://ai.google.dev/) website.\n",
    "There are many differnt guides and documentation pages listed here, its a good resource to have.\n",
    "\n",
    "## Step 3: Accessing the API on Google Cloud\n",
    "### Make the Cloud Project\n",
    "1. Click on the \"Get API Key in Google AI Studio\" button on the Google AI Dev website. It should link [here](https://aistudio.google.com/app/apikey). \n",
    "\t\n",
    "\tNote that when I tried clicking on the \"Create API key\" button it didn't work and gave the following error. \n",
    "\t```\n",
    "\tcode: 7\n",
    "\tmessage: \"Permission \\'resourcemanager.projects.create\\' denied on parent resource \\'organizations/247721031950\\'.\"\n",
    "\tdetails {\n",
    "\t\ttype_url: \"type.googleapis.com/google.rpc.ResourceInfo\"\n",
    "\t\tvalue: \"\\n\\aproject\\022#projects/gen-lang-client-0325843885\"\n",
    "\t}\n",
    "\t```\n",
    "\t\n",
    "\tThis seems to be something blocked by ASU, so we'll have to use this the hard way.\n",
    "\t\n",
    "2. Find the side-bar button labeled \"Gemini API for Enterprise\" and click on it.\n",
    "3. At the top left there should be a button to create a new project. Click on it.\n",
    "4. Fill out the name for your project, mine is \"LLMs\", but it can be anything. Make sure the organization is \"asu.edu\". For the location, click browse and you should see \"Unmanaged\". Then click \"Create\".\n",
    "\n",
    "\tNote that the default project which should show up fails to create. I believe this is because ASU blocks it in the default directory, which is why we need \"Unmanaged\".\n",
    "\n",
    "### Enable Billing.\n",
    "There should be a button that pops up to do this. I can't trigger it again since I already have billing enabled, but this should be pretty straightforward.\n",
    "\n",
    "You can turn off autorenewing to avoid any charges after your free credits are used up.\n",
    "\n",
    "### Enable the API\n",
    "There should be a popup to enable the Vertex AI API. Click on the \"Enable\" button.\n",
    "\n",
    "If it doesn't show up immediately, it should show up when you're clicking around the model garden mentioned in the next section.\n",
    "\n",
    "### Testing in Colab Enterprise\n",
    "There are default notebooks for interacting with Gemini on the Google Cloud website.\n",
    "1. Go to the [Vertex AI](https://console.cloud.google.com/vertex-ai) website. It should automatically open the project you just made, however make sure you are in the correct one if you have multiple.\n",
    "2. From here, you can click \"Model Garden\" on the side bar, the icon should be a couple of leaves.\n",
    "3. Under the \"Foundation Models\" section, you have the choice from what they have available.\n",
    "\n",
    "\tI chose [Gemini 1.0 Pro](https://console.cloud.google.com/vertex-ai/publishers/google/model-garden/gemini-pro) since it seems like it costs less than the other options.\n",
    "\n",
    "4. Click on the \"Open Notebook\" button. This will open a Colab Enterprise session with a notebook showcasing different API calls.\n",
    "\n",
    "\tNote that the code you run here eats into your credits.\n",
    "\n",
    "## Step 4: Accessing the API Locally\n",
    "### Setting up local authentication.\n",
    "Detailed instructions can be found [here](https://cloud.google.com/iam/docs/keys-create-delete#creating), and I outlined them in this notebook.\n",
    "\n",
    "#### Install the CLI\n",
    "Visit the Google Cloud SDK [installation website](https://cloud.google.com/sdk/docs/install) and follow the instructions for your OS.\n",
    "\n",
    "Run this command in your a new terminal window and make sure you select the project you created here.\n",
    "```bash\n",
    "gcloud init\n",
    "```\n",
    "Log in. This is not necessary on a cloud shell or if you are already logged into your ASU account.\n",
    "```bash\n",
    "gcloud auth application-default login\n",
    "```\n",
    "\n",
    "### Example code to use the API\n",
    "This follows the same steps as in the provided notebook, but locally.\t"
   ]
  },
  {
   "cell_type": "markdown",
   "metadata": {},
   "source": [
    "Authentication for Colab; included in case this notebook is imported into Colab. Note that you would need to be signed into your ASU account."
   ]
  },
  {
   "cell_type": "code",
   "execution_count": 1,
   "metadata": {},
   "outputs": [],
   "source": [
    "# Additional authentication is required for Google Colab\n",
    "import sys\n",
    "if \"google.colab\" in sys.modules:\n",
    "\t# Authenticate user to Google Cloud\n",
    "\tfrom google.colab import auth\n",
    "\tprint(\"Authenticating user to Google Cloud...\")\n",
    "\tauth.authenticate_user()"
   ]
  },
  {
   "cell_type": "code",
   "execution_count": 2,
   "metadata": {},
   "outputs": [
    {
     "name": "stdout",
     "output_type": "stream",
     "text": [
      "Note: you may need to restart the kernel to use updated packages.\n"
     ]
    }
   ],
   "source": [
    "%pip install --upgrade --user -q google-cloud-aiplatform # Includes Vertex AI API"
   ]
  },
  {
   "cell_type": "code",
   "execution_count": 3,
   "metadata": {},
   "outputs": [
    {
     "name": "stderr",
     "output_type": "stream",
     "text": [
      "/Users/petermousses/Library/Python/3.9/lib/python/site-packages/urllib3/__init__.py:35: NotOpenSSLWarning: urllib3 v2 only supports OpenSSL 1.1.1+, currently the 'ssl' module is compiled with 'LibreSSL 2.8.3'. See: https://github.com/urllib3/urllib3/issues/3020\n",
      "  warnings.warn(\n"
     ]
    }
   ],
   "source": [
    "import vertexai\n",
    "from vertexai.generative_models import GenerationConfig, GenerativeModel"
   ]
  },
  {
   "cell_type": "markdown",
   "metadata": {},
   "source": [
    "Initialize Vertex AI."
   ]
  },
  {
   "cell_type": "code",
   "execution_count": 4,
   "metadata": {},
   "outputs": [],
   "source": [
    "vertexai.init(\n",
    "\tproject='llms-441517', # You can find it by clicking on the project dropdown in the top left.\n",
    "\tlocation='us-central1'\n",
    ")"
   ]
  },
  {
   "cell_type": "markdown",
   "metadata": {},
   "source": [
    "Load the model. In this case it is Gemini 1.0 Pro."
   ]
  },
  {
   "cell_type": "code",
   "execution_count": 5,
   "metadata": {},
   "outputs": [],
   "source": [
    "model = GenerativeModel('gemini-1.0-pro')"
   ]
  },
  {
   "cell_type": "markdown",
   "metadata": {},
   "source": [
    "Showcase of the streaming functionality. It returns text as it is generated, so it is a generator object, and therefore needs to be printed this way."
   ]
  },
  {
   "cell_type": "code",
   "execution_count": 6,
   "metadata": {},
   "outputs": [
    {
     "name": "stdout",
     "output_type": "stream",
     "text": [
      "The sky appears blue because of a phenomenon called Rayleigh scattering. This scattering occurs when sunlight enters the Earth's atmosphere and interacts with the gas molecules present there. \n",
      "\n",
      "Sunlight is composed of all the colors of the rainbow, each with a different wavelength. Blue light has a shorter wavelength than other colors like red or yellow. When sunlight encounters the gas molecules in the atmosphere, the shorter blue wavelengths are scattered more readily than the longer wavelengths. This scattered blue light reaches our eyes from all directions in the sky, making the sky appear blue. \n",
      "\n",
      "Here's a breakdown of the process:\n",
      "\n",
      "1. **Sunlight enters the atmosphere:** Sunlight travels through space and reaches Earth's atmosphere.\n",
      "2. **Light interacts with gas molecules:** Sunlight interacts with the molecules of nitrogen and oxygen, which are the main components of the atmosphere.\n",
      "3. **Rayleigh scattering occurs:** Shorter wavelengths like blue light are scattered more powerfully than longer wavelengths like red or yellow.\n",
      "4. **Scattered blue light reaches our eyes:** The scattered blue light travels in all directions, reaching our eyes from various points in the sky.\n",
      "5. **Sky appears blue:** As our eyes receive more blue light than other colors, the sky appears blue.\n",
      "\n",
      "This scattering also explains why the sky appears red or orange during sunrise and sunset. When the sun is low on the horizon, sunlight has to travel through a thicker layer of the atmosphere. This increases the scattering of blue light, leaving the longer wavelengths like red and orange to pass through and reach our eyes. \n",
      "\n",
      "It's important to remember that the sky isn't truly blue; it only appears that way due to the scattering of sunlight. If you were an astronaut looking down at Earth from space, you would see the sky as a dark, inky black because there are no gas molecules to scatter the sunlight. \n"
     ]
    }
   ],
   "source": [
    "sky_prompt = 'Why is the sky blue?'\n",
    "responses = model.generate_content(sky_prompt, stream=True)\n",
    "for response in responses:\n",
    "    print(response.text, end='')"
   ]
  },
  {
   "cell_type": "markdown",
   "metadata": {},
   "source": [
    "The same prompt with a custom config."
   ]
  },
  {
   "cell_type": "code",
   "execution_count": 7,
   "metadata": {},
   "outputs": [
    {
     "name": "stdout",
     "output_type": "stream",
     "text": [
      "The sky appears blue because of a phenomenon called Rayleigh scattering. This scattering occurs when sunlight enters the Earth's atmosphere and interacts with the molecules of nitrogen and oxygen present there. \n",
      "\n",
      "Sunlight is composed of all the colors of the rainbow, each with a different wavelength. Blue light has a shorter wavelength than other colors like red or orange. When sunlight enters the atmosphere, the shorter wavelengths of blue light are scattered more readily by the nitrogen and oxygen molecules than the longer wavelengths of other colors. This scattered blue light reaches our eyes from all directions in the sky, making it appear blue.\n",
      "\n",
      "This scattering also explains why the sky appears reddish or orange during sunrise and sunset. During these times, sunlight has to travel a longer path through the atmosphere, which causes more of the blue light to be scattered away. This leaves the longer wavelengths of red and orange light to reach our eyes, giving the sky its reddish or orange hue."
     ]
    }
   ],
   "source": [
    "generation_config = GenerationConfig(\n",
    "    temperature=0.9,\n",
    "    top_p=1.0,\n",
    "    top_k=32,\n",
    "    candidate_count=1,\n",
    "    max_output_tokens=8192,\n",
    ")\n",
    "\n",
    "responses = model.generate_content(\n",
    "    sky_prompt,\n",
    "    generation_config=generation_config,\n",
    "    stream=True,\n",
    ")\n",
    "for response in responses:\n",
    "    print(response.text, end='')"
   ]
  },
  {
   "cell_type": "markdown",
   "metadata": {},
   "source": [
    "Chat example."
   ]
  },
  {
   "cell_type": "code",
   "execution_count": 8,
   "metadata": {},
   "outputs": [
    {
     "name": "stdout",
     "output_type": "stream",
     "text": [
      "Hi Ned, \n",
      "\n",
      "It's great to meet you! I understand you're a fan of Lord of the Rings and The Hobbit, and I think you might enjoy \"The Chronicles of Narnia: The Lion, the Witch, and the Wardrobe.\" It's a fantasy film based on the first book in C.S. Lewis's beloved \"Chronicles of Narnia\" series. Like Lord of the Rings and The Hobbit, it features a group of young heroes who embark on a magical adventure in a world filled with mythical creatures and epic battles. \n",
      "\n",
      "Here are some reasons why you might like \"The Chronicles of Narnia: The Lion, the Witch, and the Wardrobe\":\n",
      "\n",
      "* **Similar themes:** Like Lord of the Rings and The Hobbit, The Chronicles of Narnia explores themes of good versus evil, friendship, and courage.\n",
      "* **Rich fantasy world:** Narnia is a wonderfully imaginative world filled with talking animals, mythical creatures, and magical landscapes.\n",
      "* **Epic battles:** The film features some truly epic battles between the forces of good and evil, similar to the battles in Lord of the Rings and The Hobbit.\n",
      "* **Strong characters:** The young heroes in Narnia are relatable and inspiring, and the film also features some memorable and well-developed supporting characters.\n",
      "\n",
      "I hope you enjoy watching \"The Chronicles of Narnia: The Lion, the Witch, and the Wardrobe.\" Let me know what you think!\n",
      " -------------------------\n",
      "Yes, both \"The Lord of the Rings\" trilogy (2001-2003) and \"The Hobbit\" trilogy (2012-2014) are based on the beloved book series of the same names by J.R.R. Tolkien.\n",
      "\n",
      "* The Lord of the Rings: This epic fantasy series, published between 1954 and 1955, follows Frodo Baggins on his quest to destroy the One Ring and defeat the Dark Lord Sauron. The trilogy includes \"The Fellowship of the Ring,\" \"The Two Towers,\" and \"The Return of the King.\"\n",
      "\n",
      "* The Hobbit: A prequel to The Lord of the Rings, published in 1937, follows Bilbo Baggins on his adventure with a group of dwarves to reclaim their treasure from the dragon Smaug. \n",
      "\n",
      "The movies are both adaptations of Tolkien's novels, but with some differences. However, they both capture the essence of the books' stories, themes, and characters, offering a captivating cinematic experience for fans of the franchise.\n",
      " -------------------------\n",
      "[role: \"user\"\n",
      "parts {\n",
      "  text: \"My name is Ned. You are my personal assistant. My favorite movies are Lord of the Rings and Hobbit.\\n\\nSuggest another movie I might like.\\n\"\n",
      "}\n",
      ", role: \"model\"\n",
      "parts {\n",
      "  text: \"Hi Ned, \\n\\nIt\\'s great to meet you! I understand you\\'re a fan of Lord of the Rings and The Hobbit, and I think you might enjoy \\\"The Chronicles of Narnia: The Lion, the Witch, and the Wardrobe.\\\" It\\'s a fantasy film based on the first book in C.S. Lewis\\'s beloved \\\"Chronicles of Narnia\\\" series. Like Lord of the Rings and The Hobbit, it features a group of young heroes who embark on a magical adventure in a world filled with mythical creatures and epic battles. \\n\\nHere are some reasons why you might like \\\"The Chronicles of Narnia: The Lion, the Witch, and the Wardrobe\\\":\\n\\n* **Similar themes:** Like Lord of the Rings and The Hobbit, The Chronicles of Narnia explores themes of good versus evil, friendship, and courage.\\n* **Rich fantasy world:** Narnia is a wonderfully imaginative world filled with talking animals, mythical creatures, and magical landscapes.\\n* **Epic battles:** The film features some truly epic battles between the forces of good and evil, similar to the battles in Lord of the Rings and The Hobbit.\\n* **Strong characters:** The young heroes in Narnia are relatable and inspiring, and the film also features some memorable and well-developed supporting characters.\\n\\nI hope you enjoy watching \\\"The Chronicles of Narnia: The Lion, the Witch, and the Wardrobe.\\\" Let me know what you think!\"\n",
      "}\n",
      ", role: \"user\"\n",
      "parts {\n",
      "  text: \"Are my favorite movies based on a book series?\"\n",
      "}\n",
      ", role: \"model\"\n",
      "parts {\n",
      "  text: \"Yes, both \\\"The Lord of the Rings\\\" trilogy (2001-2003) and \\\"The Hobbit\\\" trilogy (2012-2014) are based on the beloved book series of the same names by J.R.R. Tolkien.\\n\\n* The Lord of the Rings: This epic fantasy series, published between 1954 and 1955, follows Frodo Baggins on his quest to destroy the One Ring and defeat the Dark Lord Sauron. The trilogy includes \\\"The Fellowship of the Ring,\\\" \\\"The Two Towers,\\\" and \\\"The Return of the King.\\\"\\n\\n* The Hobbit: A prequel to The Lord of the Rings, published in 1937, follows Bilbo Baggins on his adventure with a group of dwarves to reclaim their treasure from the dragon Smaug. \\n\\nThe movies are both adaptations of Tolkien\\'s novels, but with some differences. However, they both capture the essence of the books\\' stories, themes, and characters, offering a captivating cinematic experience for fans of the franchise.\"\n",
      "}\n",
      "]\n"
     ]
    }
   ],
   "source": [
    "chat = model.start_chat()\n",
    "\n",
    "prompt = \"\"\"My name is Ned. You are my personal assistant. My favorite movies are Lord of the Rings and Hobbit.\n",
    "\n",
    "Suggest another movie I might like.\n",
    "\"\"\"\n",
    "responses = chat.send_message(prompt, stream=True)\n",
    "for response in responses:\n",
    "    print(response.text, end=\"\")\n",
    "print('\\n','-'*25)\n",
    "    \n",
    "prompt = 'Are my favorite movies based on a book series?'\n",
    "responses = chat.send_message(prompt, stream=True)\n",
    "for response in responses:\n",
    "    print(response.text, end=\"\")\n",
    "print('\\n','-'*25)\n",
    "\n",
    "print(chat.history)"
   ]
  }
 ],
 "metadata": {
  "kernelspec": {
   "display_name": "Python 3",
   "language": "python",
   "name": "python3"
  },
  "language_info": {
   "codemirror_mode": {
    "name": "ipython",
    "version": 3
   },
   "file_extension": ".py",
   "mimetype": "text/x-python",
   "name": "python",
   "nbconvert_exporter": "python",
   "pygments_lexer": "ipython3",
   "version": "3.9.6"
  }
 },
 "nbformat": 4,
 "nbformat_minor": 2
}
